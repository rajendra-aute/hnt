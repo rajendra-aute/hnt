{
 "cells": [
  {
   "cell_type": "markdown",
   "id": "f4e8cb1d",
   "metadata": {},
   "source": [
    "## Git"
   ]
  },
  {
   "cell_type": "code",
   "execution_count": null,
   "id": "d201a8bc",
   "metadata": {},
   "outputs": [],
   "source": [
    "1. GitHub\n",
    "2. BitBucket\n",
    "3. GitLab\n",
    "\n",
    "UI(User Interface) >> is different"
   ]
  },
  {
   "cell_type": "markdown",
   "id": "d9d7166a",
   "metadata": {},
   "source": [
    "### Virtual Machine(VDE >> Virtual Desktop Environment)"
   ]
  },
  {
   "cell_type": "code",
   "execution_count": null,
   "id": "aa747718",
   "metadata": {},
   "outputs": [],
   "source": [
    "Local System:\n",
    "    A system (Laptop/Computer) available with you physically, and you work on it.\n",
    "    \n",
    "Virtual System:(Provided by Client)\n",
    "    A system where you can log in, online and have the same interface as local system."
   ]
  },
  {
   "cell_type": "markdown",
   "id": "e839a4e2",
   "metadata": {},
   "source": [
    "### Alternatives to Git"
   ]
  },
  {
   "cell_type": "code",
   "execution_count": null,
   "id": "b8c5ccb3",
   "metadata": {},
   "outputs": [],
   "source": [
    "Cloud based tech:\n",
    "    1. Azure DataBricks >> DBFS\n",
    "    2. AWS Sagemaker >> S3 Bucket, Redshift"
   ]
  },
  {
   "cell_type": "markdown",
   "id": "3fdddf28",
   "metadata": {},
   "source": [
    "## Project Management Tools"
   ]
  },
  {
   "cell_type": "code",
   "execution_count": null,
   "id": "90324b9f",
   "metadata": {},
   "outputs": [],
   "source": [
    "JIRA, ASAN, ZOHO, PivotalTracker, Trello\n",
    "\n",
    "Sprint:\n",
    "    2-3 Weeks in Service Based Companies\n",
    "    1 Week in Product Based Companies\n",
    "\n",
    "JIRA:\n",
    "    Epic:\n",
    "        Plan with Team Lead and Manager\n",
    "        2 months plan(8 weeks)\n",
    "        \n",
    "        Stories:\n",
    "            strory1 > EDA >> Week 1-2\n",
    "            strory2 > Feature Engg >> Week 2\n",
    "            strory3 > Model Building >> Week 3\n",
    "            strory4 > Model Optimization >> Week 4-5\n",
    "            strory5 > Model Evaluation >> Week 6\n",
    "            strory6 > DashBoard & Deck >> Week 7-8\n",
    "            \n",
    "            Sub-Task:\n",
    "                strory1 >> Sub-Task:\n",
    "                                Univariate\n",
    "                                Bivariate\n",
    "                            \n",
    "    Issues: (From developers)\n",
    "        Scaling with Standardization\n",
    "        \n",
    "Report will generate after completion of epic.\n",
    "\n",
    "Daily stand up: (With Manger) 30 to 60 min\n",
    "    Daily Updates (yesterdays tasks and todays tasks)\n",
    "    Issue\n",
    "    \n",
    "JIRA - GitHub >> Integrate\n",
    "BitBucket\n",
    "            \n",
    "TA Team >> Talent Acquisition Team(HR)         \n",
    "TL >> Team Lead\n",
    "PM >> Project Manager\n",
    "RM >> Reporting Manager(L1)\n",
    "L2 Manager >> Regional Manager (Managers Manager)\n",
    "HRM >> HR Manager\n",
    "VP >> Vice President\n",
    "\n",
    "BRD >> Business Requirement Document"
   ]
  },
  {
   "cell_type": "code",
   "execution_count": null,
   "id": "d50cf4c4",
   "metadata": {},
   "outputs": [],
   "source": []
  },
  {
   "cell_type": "code",
   "execution_count": null,
   "id": "914cfc4f",
   "metadata": {},
   "outputs": [],
   "source": []
  },
  {
   "cell_type": "code",
   "execution_count": null,
   "id": "7f69d2af",
   "metadata": {},
   "outputs": [],
   "source": []
  },
  {
   "cell_type": "code",
   "execution_count": null,
   "id": "ed08812a",
   "metadata": {},
   "outputs": [],
   "source": []
  },
  {
   "cell_type": "code",
   "execution_count": null,
   "id": "501ff0eb",
   "metadata": {},
   "outputs": [],
   "source": []
  },
  {
   "cell_type": "code",
   "execution_count": null,
   "id": "65c1fc86",
   "metadata": {},
   "outputs": [],
   "source": []
  },
  {
   "cell_type": "code",
   "execution_count": null,
   "id": "e43644aa",
   "metadata": {},
   "outputs": [],
   "source": []
  },
  {
   "cell_type": "code",
   "execution_count": null,
   "id": "2372b47e",
   "metadata": {},
   "outputs": [],
   "source": []
  },
  {
   "cell_type": "code",
   "execution_count": null,
   "id": "a63f689c",
   "metadata": {},
   "outputs": [],
   "source": []
  },
  {
   "cell_type": "code",
   "execution_count": null,
   "id": "af68e520",
   "metadata": {},
   "outputs": [],
   "source": []
  },
  {
   "cell_type": "code",
   "execution_count": null,
   "id": "a956e561",
   "metadata": {},
   "outputs": [],
   "source": []
  }
 ],
 "metadata": {
  "kernelspec": {
   "display_name": "Python 3 (ipykernel)",
   "language": "python",
   "name": "python3"
  },
  "language_info": {
   "codemirror_mode": {
    "name": "ipython",
    "version": 3
   },
   "file_extension": ".py",
   "mimetype": "text/x-python",
   "name": "python",
   "nbconvert_exporter": "python",
   "pygments_lexer": "ipython3",
   "version": "3.10.9"
  }
 },
 "nbformat": 4,
 "nbformat_minor": 5
}
